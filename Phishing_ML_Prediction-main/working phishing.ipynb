{
 "cells": [
  {
   "cell_type": "code",
   "execution_count": 1,
   "id": "92746b77",
   "metadata": {},
   "outputs": [],
   "source": [
    "import pandas as pd\n",
    "import requests\n",
    "import certifi\n",
    "from urllib.parse import urlparse\n",
    "import tldextract\n",
    "from sklearn.feature_extraction.text import TfidfVectorizer\n",
    "from sklearn.model_selection import train_test_split\n",
    "from sklearn.linear_model import LogisticRegression\n",
    "from sklearn.metrics import accuracy_score\n",
    "import pickle\n",
    "import re\n",
    "\n"
   ]
  },
  {
   "cell_type": "code",
   "execution_count": 2,
   "id": "6d8e2d2e",
   "metadata": {},
   "outputs": [],
   "source": [
    "# Load your dataset\n",
    "data = pd.read_csv(\"data.csv\")\n"
   ]
  },
  {
   "cell_type": "code",
   "execution_count": 3,
   "id": "e2f5c241",
   "metadata": {},
   "outputs": [
    {
     "data": {
      "text/html": [
       "<div>\n",
       "<style scoped>\n",
       "    .dataframe tbody tr th:only-of-type {\n",
       "        vertical-align: middle;\n",
       "    }\n",
       "\n",
       "    .dataframe tbody tr th {\n",
       "        vertical-align: top;\n",
       "    }\n",
       "\n",
       "    .dataframe thead th {\n",
       "        text-align: right;\n",
       "    }\n",
       "</style>\n",
       "<table border=\"1\" class=\"dataframe\">\n",
       "  <thead>\n",
       "    <tr style=\"text-align: right;\">\n",
       "      <th></th>\n",
       "      <th>URL</th>\n",
       "      <th>Label</th>\n",
       "    </tr>\n",
       "  </thead>\n",
       "  <tbody>\n",
       "    <tr>\n",
       "      <th>0</th>\n",
       "      <td>nobell.it/70ffb52d079109dca5664cce6f317373782/...</td>\n",
       "      <td>bad</td>\n",
       "    </tr>\n",
       "    <tr>\n",
       "      <th>1</th>\n",
       "      <td>www.dghjdgf.com/paypal.co.uk/cycgi-bin/webscrc...</td>\n",
       "      <td>bad</td>\n",
       "    </tr>\n",
       "    <tr>\n",
       "      <th>2</th>\n",
       "      <td>serviciosbys.com/paypal.cgi.bin.get-into.herf....</td>\n",
       "      <td>bad</td>\n",
       "    </tr>\n",
       "    <tr>\n",
       "      <th>3</th>\n",
       "      <td>mail.printakid.com/www.online.americanexpress....</td>\n",
       "      <td>bad</td>\n",
       "    </tr>\n",
       "    <tr>\n",
       "      <th>4</th>\n",
       "      <td>thewhiskeydregs.com/wp-content/themes/widescre...</td>\n",
       "      <td>bad</td>\n",
       "    </tr>\n",
       "    <tr>\n",
       "      <th>...</th>\n",
       "      <td>...</td>\n",
       "      <td>...</td>\n",
       "    </tr>\n",
       "    <tr>\n",
       "      <th>549341</th>\n",
       "      <td>23.227.196.215/</td>\n",
       "      <td>bad</td>\n",
       "    </tr>\n",
       "    <tr>\n",
       "      <th>549342</th>\n",
       "      <td>apple-checker.org/</td>\n",
       "      <td>bad</td>\n",
       "    </tr>\n",
       "    <tr>\n",
       "      <th>549343</th>\n",
       "      <td>apple-iclods.org/</td>\n",
       "      <td>bad</td>\n",
       "    </tr>\n",
       "    <tr>\n",
       "      <th>549344</th>\n",
       "      <td>apple-uptoday.org/</td>\n",
       "      <td>bad</td>\n",
       "    </tr>\n",
       "    <tr>\n",
       "      <th>549345</th>\n",
       "      <td>apple-search.info</td>\n",
       "      <td>bad</td>\n",
       "    </tr>\n",
       "  </tbody>\n",
       "</table>\n",
       "<p>549346 rows × 2 columns</p>\n",
       "</div>"
      ],
      "text/plain": [
       "                                                      URL Label\n",
       "0       nobell.it/70ffb52d079109dca5664cce6f317373782/...   bad\n",
       "1       www.dghjdgf.com/paypal.co.uk/cycgi-bin/webscrc...   bad\n",
       "2       serviciosbys.com/paypal.cgi.bin.get-into.herf....   bad\n",
       "3       mail.printakid.com/www.online.americanexpress....   bad\n",
       "4       thewhiskeydregs.com/wp-content/themes/widescre...   bad\n",
       "...                                                   ...   ...\n",
       "549341                                    23.227.196.215/   bad\n",
       "549342                                 apple-checker.org/   bad\n",
       "549343                                  apple-iclods.org/   bad\n",
       "549344                                 apple-uptoday.org/   bad\n",
       "549345                                  apple-search.info   bad\n",
       "\n",
       "[549346 rows x 2 columns]"
      ]
     },
     "execution_count": 3,
     "metadata": {},
     "output_type": "execute_result"
    }
   ],
   "source": [
    "data\n"
   ]
  },
  {
   "cell_type": "code",
   "execution_count": 4,
   "id": "7eb986b1",
   "metadata": {},
   "outputs": [],
   "source": [
    "# Vectorization of URLs using TF-IDF\n",
    "vectorizer = TfidfVectorizer()\n",
    "X = vectorizer.fit_transform(data['URL'])\n",
    "y = data['Label']\n",
    "\n"
   ]
  },
  {
   "cell_type": "code",
   "execution_count": 5,
   "id": "d99e3c18",
   "metadata": {},
   "outputs": [],
   "source": [
    "# Split data into training and testing sets\n",
    "X_train, X_test, y_train, y_test = train_test_split(X, y, test_size=0.2, random_state=0)\n",
    "\n"
   ]
  },
  {
   "cell_type": "code",
   "execution_count": 6,
   "id": "2af46acf",
   "metadata": {},
   "outputs": [
    {
     "data": {
      "text/plain": [
       "LogisticRegression(max_iter=1000)"
      ]
     },
     "execution_count": 6,
     "metadata": {},
     "output_type": "execute_result"
    }
   ],
   "source": [
    "# Train the logistic regression model\n",
    "lr = LogisticRegression(max_iter=1000)\n",
    "lr.fit(X_train, y_train)\n",
    "\n"
   ]
  },
  {
   "cell_type": "code",
   "execution_count": 7,
   "id": "70fc8a86",
   "metadata": {},
   "outputs": [
    {
     "name": "stdout",
     "output_type": "stream",
     "text": [
      "Accuracy: 0.9567488850459634\n"
     ]
    }
   ],
   "source": [
    "# Evaluate the model\n",
    "y_pred = lr.predict(X_test)\n",
    "accuracy = accuracy_score(y_test, y_pred)\n",
    "print('Accuracy:', accuracy)\n",
    "\n"
   ]
  },
  {
   "cell_type": "code",
   "execution_count": 8,
   "id": "3bd383d5",
   "metadata": {},
   "outputs": [],
   "source": [
    "# # Save the trained model and vectorizer\n",
    "# filename1 = \"logistic_model.bin\"\n",
    "# filename2 = \"vectorizer_model.bin\"\n",
    "# with open(filename1, 'wb') as model_file:\n",
    "#     pickle.dump(lr, model_file)\n",
    "# with open(filename2, 'wb') as vectorizer_file:\n",
    "#     pickle.dump(vectorizer, vectorizer_file)\n",
    "\n",
    "# Save the trained model and vectorizer to pickle files with \".pickle\" extension\n",
    "filename1 = \"logistic.pickle\"\n",
    "filename2 = \"vectorizer.pickle\"\n",
    "with open(filename1, 'wb') as model_file:\n",
    "    pickle.dump(lr, model_file)\n",
    "with open(filename2, 'wb') as vectorizer_file:\n",
    "    pickle.dump(vectorizer, vectorizer_file)"
   ]
  },
  {
   "cell_type": "code",
   "execution_count": 9,
   "id": "535e1e33",
   "metadata": {},
   "outputs": [],
   "source": [
    "\n",
    "# Load the trained model and vectorizer from the pickle files\n",
    "with open(\"logistic.pickle\", \"rb\") as model_file:\n",
    "    loaded_model = pickle.load(model_file)\n",
    "with open(\"vectorizer.pickle\", \"rb\") as vectorizer_file:\n",
    "    loaded_vectorizer = pickle.load(vectorizer_file)\n",
    "\n",
    "\n"
   ]
  },
  {
   "cell_type": "code",
   "execution_count": 10,
   "id": "fc54878a",
   "metadata": {},
   "outputs": [],
   "source": [
    "# Function to classify a URL\n",
    "def classify_url(url):\n",
    "    # Check for \"https://\" in the URL and give it a weight\n",
    "    if \"https://\" in url:\n",
    "        weight = 2.0\n",
    "    else:\n",
    "        weight = 1.0\n",
    "\n",
    "    # Check for HTTPS and validate SSL certificate\n",
    "    try:\n",
    "        response = requests.get(url, timeout=5, verify=certifi.where())\n",
    "        if response.status_code == 200:\n",
    "            final_url = response.url\n",
    "            domain_info = tldextract.extract(final_url)\n",
    "            domain = domain_info.domain + \".\" + domain_info.suffix\n",
    "\n",
    "            # Additional feature: Check if the URL contains \"amazon\" in the domain name\n",
    "            if \"amazon\" in domain:\n",
    "                weight *= 1.5  # Adjust the weight as needed based on domain-specific rules\n",
    "\n",
    "            # Transform the URL and make a prediction\n",
    "            temp = loaded_vectorizer.transform([url])\n",
    "            prediction = loaded_model.predict(temp)\n",
    "\n",
    "            # Adjust the prediction based on the weight\n",
    "            if weight > 1.0:\n",
    "                return \"good\", final_url, domain\n",
    "            else:\n",
    "                return prediction[0], final_url, domain\n",
    "\n",
    "    except requests.exceptions.RequestException:\n",
    "        pass\n",
    "\n",
    "    return \"unknown\", \"N/A\", \"N/A\""
   ]
  },
  {
   "cell_type": "code",
   "execution_count": 11,
   "id": "73e495a4",
   "metadata": {},
   "outputs": [
    {
     "name": "stdout",
     "output_type": "stream",
     "text": [
      "Enter a URL: https://www.amazon.in/\n",
      "Prediction: good\n",
      "Final URL: https://www.amazon.in/\n",
      "Domain: amazon.in\n"
     ]
    }
   ],
   "source": [
    "# Classify a new URL\n",
    "input_url = input(\"Enter a URL: \")\n",
    "prediction, final_url, domain = classify_url(input_url)\n",
    "print(\"Prediction:\", prediction)\n",
    "print(\"Final URL:\", final_url)\n",
    "print(\"Domain:\", domain)"
   ]
  },
  {
   "cell_type": "code",
   "execution_count": null,
   "id": "772e96d1",
   "metadata": {},
   "outputs": [],
   "source": []
  },
  {
   "cell_type": "code",
   "execution_count": null,
   "id": "ef2aa30d",
   "metadata": {},
   "outputs": [],
   "source": []
  }
 ],
 "metadata": {
  "kernelspec": {
   "display_name": "Python 3 (ipykernel)",
   "language": "python",
   "name": "python3"
  },
  "language_info": {
   "codemirror_mode": {
    "name": "ipython",
    "version": 3
   },
   "file_extension": ".py",
   "mimetype": "text/x-python",
   "name": "python",
   "nbconvert_exporter": "python",
   "pygments_lexer": "ipython3",
   "version": "3.9.13"
  }
 },
 "nbformat": 4,
 "nbformat_minor": 5
}
